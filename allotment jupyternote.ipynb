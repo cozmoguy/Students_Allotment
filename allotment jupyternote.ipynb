{
 "cells": [
  {
   "cell_type": "code",
   "execution_count": 4,
   "metadata": {},
   "outputs": [],
   "source": [
    "# colleges contain colleges - their students\n",
    "colleges = {\n",
    "    'college1': [], 'college2': [],\n",
    "    'college3': [], 'college4': [], 'college5': [],\n",
    "}"
   ]
  },
  {
   "cell_type": "code",
   "execution_count": 5,
   "metadata": {},
   "outputs": [],
   "source": [
    "\n",
    "# students contain students(their college preferences and allotment status) sorded on their \"rank\"\n",
    "students = {\n",
    "    'stud1': {'prefs': ['college1', 'college2', 'college3'], 'status': False},\n",
    "    'stud2': {'prefs': ['college1', 'college2', 'college3'], 'status': False},\n",
    "    'stud3': {'prefs': ['college1', 'college2', 'college3'], 'status': False},\n",
    "    'stud4': {'prefs': ['college1', 'college2', 'college3'], 'status': False},\n",
    "    'stud5': {'prefs': ['college1', 'college2', 'college3'], 'status': False},\n",
    "    'stud6': {'prefs': ['college1', 'college2', 'college3'], 'status': False},\n",
    "    'stud7': {'prefs': ['college1', 'college2', 'college3'], 'status': False},\n",
    "    'stud8': {'prefs': ['college1', 'college2', 'college3'], 'status': False},\n",
    "    'stud9': {'prefs': ['college1', 'college2', 'college3'], 'status': False},\n",
    "    'stud10': {'prefs': ['college1', 'college2', 'college3'], 'status': False},\n",
    "    'stud11': {'prefs': ['college1', 'college2', 'college3'], 'status': False},\n",
    "    'stud12': {'prefs': ['college1', 'college2', 'college3'], 'status': False},\n",
    "    'stud13': {'prefs': ['college1', 'college2', 'college3'], 'status': False},\n",
    "    'stud14': {'prefs': ['college1', 'college2', 'college3'], 'status': False},\n",
    "    'stud15': {'prefs': ['college1', 'college2', 'college3'], 'status': False},\n",
    "}"
   ]
  },
  {
   "cell_type": "code",
   "execution_count": 10,
   "metadata": {},
   "outputs": [],
   "source": [
    "def allo_sys(students, colleges):\n",
    "    for student in students:\n",
    "        if students[student]['status']:\n",
    "            break\n",
    "        else:\n",
    "            for i in students[student]['prefs']:\n",
    "                if len(colleges[i]) <= 2:\n",
    "                    colleges[i].append(student)\n",
    "                    students[student]['status'] = True\n",
    "                    break\n",
    "                    \n",
    "    print(colleges)"
   ]
  },
  {
   "cell_type": "code",
   "execution_count": 11,
   "metadata": {},
   "outputs": [
    {
     "name": "stdout",
     "output_type": "stream",
     "text": [
      "{'college1': ['stud1', 'stud2', 'stud3'], 'college2': ['stud4', 'stud5', 'stud6'], 'college3': ['stud7', 'stud8', 'stud9'], 'college4': [], 'college5': []}\n"
     ]
    }
   ],
   "source": [
    "allo_sys(students, colleges)"
   ]
  },
  {
   "cell_type": "code",
   "execution_count": null,
   "metadata": {},
   "outputs": [],
   "source": []
  }
 ],
 "metadata": {
  "kernelspec": {
   "display_name": "Python 3",
   "language": "python",
   "name": "python3"
  },
  "language_info": {
   "codemirror_mode": {
    "name": "ipython",
    "version": 3
   },
   "file_extension": ".py",
   "mimetype": "text/x-python",
   "name": "python",
   "nbconvert_exporter": "python",
   "pygments_lexer": "ipython3",
   "version": "3.7.6"
  }
 },
 "nbformat": 4,
 "nbformat_minor": 4
}

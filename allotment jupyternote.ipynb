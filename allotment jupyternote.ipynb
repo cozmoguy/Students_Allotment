{
 "cells": [
  {
   "cell_type": "code",
   "execution_count": 26,
   "metadata": {},
   "outputs": [],
   "source": [
    "# colleges contain colleges - their students\n",
    "colleges = {\n",
    "    'college1': [], 'college2': [],\n",
    "    'college3': [], 'college4': [], 'college5': [],\n",
    "}"
   ]
  },
  {
   "cell_type": "code",
   "execution_count": 31,
   "metadata": {},
   "outputs": [],
   "source": [
    "\n",
    "# students contain students(their college preferences and allotment status) sorded on their \"rank\"\n",
    "students = {\n",
    "    'stud1': {'prefs': ['college3', 'college1', 'college5'], 'status': False},\n",
    "    'stud2': {'prefs': ['college4', 'college3', 'college1'], 'status': False},\n",
    "    'stud3': {'prefs': ['college1', 'college5', 'college2'], 'status': False},\n",
    "    'stud4': {'prefs': ['college3', 'college1', 'college4'], 'status': False},\n",
    "    'stud5': {'prefs': ['college4', 'college3', 'college5'], 'status': False},\n",
    "    'stud6': {'prefs': ['college4', 'college2', 'college3'], 'status': False},\n",
    "    'stud7': {'prefs': ['college4', 'college2', 'college5'], 'status': False},\n",
    "    'stud8': {'prefs': ['college5', 'college4', 'college2'], 'status': False},\n",
    "    'stud9': {'prefs': ['college1', 'college5', 'college2'], 'status': False},\n",
    "    'stud10': {'prefs': ['college2', 'college5', 'college4'], 'status': False},\n",
    "    'stud11': {'prefs': ['college4', 'college5', 'college3'], 'status': False},\n",
    "    'stud12': {'prefs': ['college3', 'college5', 'college2'], 'status': False},\n",
    "    'stud13': {'prefs': ['college3', 'college2', 'college1'], 'status': False},\n",
    "    'stud14': {'prefs': ['college4', 'college2', 'college1'], 'status': False},\n",
    "    'stud15': {'prefs': ['college5', 'college4', 'college2'], 'status': False},\n",
    "}"
   ]
  },
  {
   "cell_type": "code",
   "execution_count": 33,
   "metadata": {},
   "outputs": [],
   "source": [
    "def allo_sys(students, colleges):\n",
    "    for student in students:\n",
    "        if students[student]['status']:\n",
    "            break\n",
    "        else:\n",
    "            for i in students[student]['prefs']:\n",
    "                if students[student]['status']:\n",
    "                    break\n",
    "                elif len(colleges[i]) <= 2:\n",
    "                        colleges[i].append(student)\n",
    "                        students[student]['status'] = True\n",
    "                        break    \n",
    "                    \n",
    "                    \n",
    "    print(colleges)"
   ]
  },
  {
   "cell_type": "code",
   "execution_count": 34,
   "metadata": {},
   "outputs": [
    {
     "name": "stdout",
     "output_type": "stream",
     "text": [
      "{'college1': ['stud3', 'stud9', 'stud14'], 'college2': ['stud7', 'stud10', 'stud13'], 'college3': ['stud1', 'stud4', 'stud12'], 'college4': ['stud2', 'stud5', 'stud6'], 'college5': ['stud8', 'stud11', 'stud15']}\n"
     ]
    }
   ],
   "source": [
    "allo_sys(students, colleges)\n"
   ]
  }
 ],
 "metadata": {
  "kernelspec": {
   "display_name": "Python 3",
   "language": "python",
   "name": "python3"
  },
  "language_info": {
   "codemirror_mode": {
    "name": "ipython",
    "version": 3
   },
   "file_extension": ".py",
   "mimetype": "text/x-python",
   "name": "python",
   "nbconvert_exporter": "python",
   "pygments_lexer": "ipython3",
   "version": "3.7.6"
  }
 },
 "nbformat": 4,
 "nbformat_minor": 4
}
